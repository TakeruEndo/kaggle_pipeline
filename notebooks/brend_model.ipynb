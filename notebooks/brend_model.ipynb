{
 "cells": [
  {
   "cell_type": "code",
   "execution_count": 1,
   "metadata": {},
   "outputs": [],
   "source": [
    "import pandas as pd"
   ]
  },
  {
   "cell_type": "code",
   "execution_count": 27,
   "metadata": {},
   "outputs": [],
   "source": [
    "submit_1 = pd.read_csv(\"../models/cb_0212_0208/cb_0212_0208_submission.csv\" )\n",
    "submit_2 = pd.read_csv(\"../models/lgb_0212_0208/lgb_0212_0208_submission.csv\" )\n",
    "submit_3 = pd.read_csv(\"../models/xgb_0212_0208/xgb_0212_0208_submission.csv\")\n",
    "sample_submission = pd.read_csv(\"../data/raw/sample_submission.csv\")"
   ]
  },
  {
   "cell_type": "code",
   "execution_count": 28,
   "metadata": {},
   "outputs": [],
   "source": [
    "import matplotlib.pyplot as plt\n",
    "import seaborn as sns"
   ]
  },
  {
   "cell_type": "code",
   "execution_count": 29,
   "metadata": {},
   "outputs": [
    {
     "data": {
      "text/plain": [
       "<matplotlib.axes._subplots.AxesSubplot at 0x1a20828f60>"
      ]
     },
     "execution_count": 29,
     "metadata": {},
     "output_type": "execute_result"
    },
    {
     "data": {
      "image/png": "[encoded data removed]",
      "text/plain": [
       "<Figure size 432x288 with 1 Axes>"
      ]
     },
     "metadata": {
      "needs_background": "light"
     },
     "output_type": "display_data"
    }
   ],
   "source": [
    "sns.distplot(submit_1[\"SalePrice\"])\n",
    "sns.distplot(submit_2[\"SalePrice\"])\n",
    "sns.distplot(submit_3[\"SalePrice\"])\n"
   ]
  },
  {
   "cell_type": "code",
   "execution_count": 30,
   "metadata": {},
   "outputs": [],
   "source": [
    "salePrice = submit_1['SalePrice']*0.5 + submit_2['SalePrice']*0.2 + submit_3['SalePrice']*0.3"
   ]
  },
  {
   "cell_type": "code",
   "execution_count": 31,
   "metadata": {},
   "outputs": [],
   "source": [
    "sample_submission['SalePrice'] = salePrice"
   ]
  },
  {
   "cell_type": "code",
   "execution_count": 32,
   "metadata": {},
   "outputs": [
    {
     "data": {
      "text/html": [
       "<div>\n",
       "<style scoped>\n",
       "    .dataframe tbody tr th:only-of-type {\n",
       "        vertical-align: middle;\n",
       "    }\n",
       "\n",
       "    .dataframe tbody tr th {\n",
       "        vertical-align: top;\n",
       "    }\n",
       "\n",
       "    .dataframe thead th {\n",
       "        text-align: right;\n",
       "    }\n",
       "</style>\n",
       "<table border=\"1\" class=\"dataframe\">\n",
       "  <thead>\n",
       "    <tr style=\"text-align: right;\">\n",
       "      <th></th>\n",
       "      <th>Id</th>\n",
       "      <th>SalePrice</th>\n",
       "    </tr>\n",
       "  </thead>\n",
       "  <tbody>\n",
       "    <tr>\n",
       "      <th>0</th>\n",
       "      <td>1461</td>\n",
       "      <td>124946.599824</td>\n",
       "    </tr>\n",
       "    <tr>\n",
       "      <th>1</th>\n",
       "      <td>1462</td>\n",
       "      <td>161384.917689</td>\n",
       "    </tr>\n",
       "    <tr>\n",
       "      <th>2</th>\n",
       "      <td>1463</td>\n",
       "      <td>185655.154741</td>\n",
       "    </tr>\n",
       "    <tr>\n",
       "      <th>3</th>\n",
       "      <td>1464</td>\n",
       "      <td>194194.248990</td>\n",
       "    </tr>\n",
       "    <tr>\n",
       "      <th>4</th>\n",
       "      <td>1465</td>\n",
       "      <td>187258.061624</td>\n",
       "    </tr>\n",
       "  </tbody>\n",
       "</table>\n",
       "</div>"
      ],
      "text/plain": [
       "     Id      SalePrice\n",
       "0  1461  124946.599824\n",
       "1  1462  161384.917689\n",
       "2  1463  185655.154741\n",
       "3  1464  194194.248990\n",
       "4  1465  187258.061624"
      ]
     },
     "execution_count": 32,
     "metadata": {},
     "output_type": "execute_result"
    }
   ],
   "source": [
    "sample_submission.head()"
   ]
  },
  {
   "cell_type": "code",
   "execution_count": 33,
   "metadata": {},
   "outputs": [],
   "source": [
    "sample_submission.to_csv('../data/submission/cb5_lgb2_xb3.csv', index=False)"
   ]
  },
  {
   "cell_type": "code",
   "execution_count": 2,
   "metadata": {},
   "outputs": [],
   "source": [
    "submit_1 = pd.read_csv(\"../data/raw/train_2.csv\" )"
   ]
  },
  {
   "cell_type": "code",
   "execution_count": 4,
   "metadata": {},
   "outputs": [
    {
     "data": {
      "text/plain": [
       "1stFlrSF                 float64\n",
       "2ndFlrSF                 float64\n",
       "3SsnPorch                float64\n",
       "Alley                    float64\n",
       "BedroomAbvGr             float64\n",
       "BsmtCond                 float64\n",
       "BsmtExposure             float64\n",
       "BsmtFinSF1               float64\n",
       "BsmtFinSF2               float64\n",
       "BsmtFinType1             float64\n",
       "BsmtFinType2             float64\n",
       "BsmtFullBath             float64\n",
       "BsmtHalfBath             float64\n",
       "BsmtQual                 float64\n",
       "BsmtUnfSF                float64\n",
       "CentralAir               float64\n",
       "EnclosedPorch            float64\n",
       "ExterCond                float64\n",
       "ExterQual                float64\n",
       "Fence                    float64\n",
       "FireplaceQu              float64\n",
       "Fireplaces               float64\n",
       "FullBath                 float64\n",
       "Functional               float64\n",
       "GarageArea               float64\n",
       "GarageCars               float64\n",
       "GarageCond               float64\n",
       "GarageFinish             float64\n",
       "GarageQual               float64\n",
       "GarageYrBlt              float64\n",
       "                          ...   \n",
       "Neighborhood_Veenker       int64\n",
       "RoofMatl_CompShg           int64\n",
       "RoofMatl_Membran           int64\n",
       "RoofMatl_Metal             int64\n",
       "RoofMatl_Roll              int64\n",
       "RoofMatl_Tar&Grv           int64\n",
       "RoofMatl_WdShake           int64\n",
       "RoofMatl_WdShngl           int64\n",
       "RoofStyle_Flat             int64\n",
       "RoofStyle_Gable            int64\n",
       "RoofStyle_Gambrel          int64\n",
       "RoofStyle_Hip              int64\n",
       "RoofStyle_Mansard          int64\n",
       "RoofStyle_Shed             int64\n",
       "SaleCondition_Abnorml      int64\n",
       "SaleCondition_AdjLand      int64\n",
       "SaleCondition_Alloca       int64\n",
       "SaleCondition_Family       int64\n",
       "SaleCondition_Normal       int64\n",
       "SaleCondition_Partial      int64\n",
       "SaleType_COD               int64\n",
       "SaleType_CWD               int64\n",
       "SaleType_Con               int64\n",
       "SaleType_ConLD             int64\n",
       "SaleType_ConLI             int64\n",
       "SaleType_ConLw             int64\n",
       "SaleType_New               int64\n",
       "SaleType_Oth               int64\n",
       "SaleType_WD                int64\n",
       "SalePrice                float64\n",
       "Length: 221, dtype: object"
      ]
     },
     "execution_count": 4,
     "metadata": {},
     "output_type": "execute_result"
    }
   ],
   "source": [
    "submit_1.dtypes"
   ]
  },
  {
   "cell_type": "code",
   "execution_count": null,
   "metadata": {},
   "outputs": [],
   "source": []
  }
 ],
 "metadata": {
  "kernelspec": {
   "display_name": "Python 3",
   "language": "python",
   "name": "python3"
  },
  "language_info": {
   "codemirror_mode": {
    "name": "ipython",
    "version": 3
   },
   "file_extension": ".py",
   "mimetype": "text/x-python",
   "name": "python",
   "nbconvert_exporter": "python",
   "pygments_lexer": "ipython3",
   "version": "3.7.3"
  }
 },
 "nbformat": 4,
 "nbformat_minor": 2
}
