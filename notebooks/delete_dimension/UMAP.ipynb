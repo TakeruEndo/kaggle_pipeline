{
 "cells": [
  {
   "cell_type": "code",
   "execution_count": 1,
   "metadata": {},
   "outputs": [],
   "source": [
    "import pandas as pd\n",
    "import matplotlib.pyplot as plt\n",
    "import seaborn as sns\n",
    "import numpy as np\n",
    "from scipy.stats import norm\n",
    "from sklearn.preprocessing import StandardScaler\n",
    "from scipy import stats\n",
    "import warnings\n",
    "warnings.filterwarnings('ignore')\n",
    "%matplotlib inline"
   ]
  },
  {
   "cell_type": "code",
   "execution_count": 2,
   "metadata": {},
   "outputs": [],
   "source": [
    "train = pd.read_csv(\"../../data/raw/train_2.csv\")\n",
    "test = pd.read_csv(\"../../data/raw/test_2.csv\")\n",
    "train_x = train.drop(['SalePrice'], axis=1)\n",
    "train_y = train['SalePrice']"
   ]
  },
  {
   "cell_type": "code",
   "execution_count": 3,
   "metadata": {},
   "outputs": [],
   "source": [
    "# 行列の標準化\n",
    "train_x = train_x.iloc[:, 1:].apply(lambda x: (x-x.mean())/x.std(), axis=0)\n",
    "test = test.iloc[:, 1:].apply(lambda x: (x-x.mean())/x.std(), axis=0)"
   ]
  },
  {
   "cell_type": "code",
   "execution_count": 4,
   "metadata": {},
   "outputs": [],
   "source": [
    "drop_columns = [\n",
    "'Condition2_RRAe',\n",
    "'Condition2_RRAn',\n",
    "'Condition2_RRNn',\n",
    "'Electrical_Mix',\n",
    "'Exterior1st_ImStucc',\n",
    "'Exterior1st_Stone',\n",
    "'Exterior2nd_Other',\n",
    "'Heating_Floor',\n",
    "'Heating_OthW',\n",
    "'HouseStyle_2.5Fin',\n",
    "'MiscFeature_TenC',\n",
    "'RoofMatl_Membran',\n",
    "'RoofMatl_Metal',\n",
    "'RoofMatl_Roll']\n",
    "train_x = train_x.drop(drop_columns, axis=1)\n",
    "test = test.drop(drop_columns, axis=1)"
   ]
  },
  {
   "cell_type": "code",
   "execution_count": 5,
   "metadata": {},
   "outputs": [],
   "source": [
    "import  umap\n",
    "\n",
    "# データは標準化などのスケールを揃える処理が行われているとする\n",
    "\n",
    "# 学習データに基づいてUMAPに夜変換を定義\n",
    "um = umap.UMAP(n_components=60)\n",
    "um.fit(train_x)\n",
    "\n",
    "# 変換の適用\n",
    "feature_train = um.transform(train_x)"
   ]
  },
  {
   "cell_type": "code",
   "execution_count": 6,
   "metadata": {},
   "outputs": [],
   "source": [
    "# 主成分得点\n",
    "train_4 = pd.DataFrame(feature_train, columns=[\"PC{}\".format(x + 1) for x in range(60)])"
   ]
  },
  {
   "cell_type": "code",
   "execution_count": 7,
   "metadata": {},
   "outputs": [
    {
     "data": {
      "image/png": "[encoded data removed]",
      "text/plain": [
       "<Figure size 432x288 with 2 Axes>"
      ]
     },
     "metadata": {
      "needs_background": "light"
     },
     "output_type": "display_data"
    }
   ],
   "source": [
    "import matplotlib.pyplot as plt\n",
    "import matplotlib.cm as cm\n",
    "\n",
    "# 第一主成分と第二主成分でプロットする\n",
    "plt.scatter(feature_train[:, 0], feature_train[:, 1], c=list(train_x.iloc[:, 0]),cmap=cm.tab10)\n",
    "plt.grid()\n",
    "plt.colorbar()\n",
    "plt.show()\n",
    "#     plt.savefig('umap.png')"
   ]
  }
 ],
 "metadata": {
  "kernelspec": {
   "display_name": "Python 3",
   "language": "python",
   "name": "python3"
  },
  "language_info": {
   "codemirror_mode": {
    "name": "ipython",
    "version": 3
   },
   "file_extension": ".py",
   "mimetype": "text/x-python",
   "name": "python",
   "nbconvert_exporter": "python",
   "pygments_lexer": "ipython3",
   "version": "3.7.3"
  }
 },
 "nbformat": 4,
 "nbformat_minor": 2
}
